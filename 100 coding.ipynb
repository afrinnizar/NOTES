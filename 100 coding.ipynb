{
 "cells": [
  {
   "cell_type": "markdown",
   "id": "fba06faf",
   "metadata": {},
   "source": [
    "# 1. Insert an element at a specific position in a list"
   ]
  },
  {
   "cell_type": "code",
   "execution_count": 1,
   "id": "09d87614",
   "metadata": {},
   "outputs": [
    {
     "name": "stdout",
     "output_type": "stream",
     "text": [
      "Updated List: [10, 20, 25, 30, 40]\n"
     ]
    }
   ],
   "source": [
    "# Insert an element at a specific position\n",
    "my_list = [10, 20, 30, 40]\n",
    "pos = 2  # insert at index 2\n",
    "element = 25\n",
    "my_list.insert(pos, element)\n",
    "print(\"Updated List:\", my_list)"
   ]
  },
  {
   "cell_type": "markdown",
   "id": "ceedcb7b",
   "metadata": {},
   "source": [
    "# 2. Find max and min without max()/min()"
   ]
  },
  {
   "cell_type": "code",
   "execution_count": 2,
   "id": "852b60ee",
   "metadata": {},
   "outputs": [
    {
     "name": "stdout",
     "output_type": "stream",
     "text": [
      "Maximum: 9\n",
      "Minimum: 1\n"
     ]
    }
   ],
   "source": [
    "numbers = [5, 8, 2, 9, 1, 6]\n",
    "max_val = numbers[0]\n",
    "min_val = numbers[0]\n",
    "for num in numbers:\n",
    "    if num > max_val:\n",
    "        max_val = num\n",
    "    if num < min_val:\n",
    "        min_val = num\n",
    "print(\"Maximum:\", max_val)\n",
    "print(\"Minimum:\", min_val)"
   ]
  },
  {
   "cell_type": "markdown",
   "id": "f96e3278",
   "metadata": {},
   "source": [
    "# 3. Remove all negative numbers from a list"
   ]
  },
  {
   "cell_type": "code",
   "execution_count": 3,
   "id": "fcc01cc6",
   "metadata": {},
   "outputs": [
    {
     "name": "stdout",
     "output_type": "stream",
     "text": [
      "Without negatives: [10, 5, 2, 8]\n"
     ]
    }
   ],
   "source": [
    "nums = [10, -3, 5, -7, 2, -1, 8]\n",
    "positive_nums = [n for n in nums if n >= 0]\n",
    "print(\"Without negatives:\", positive_nums)"
   ]
  },
  {
   "cell_type": "markdown",
   "id": "6ded9dd3",
   "metadata": {},
   "source": [
    "# 4. Reverse a list using slicing and a loop"
   ]
  },
  {
   "cell_type": "code",
   "execution_count": 4,
   "id": "6708a886",
   "metadata": {},
   "outputs": [
    {
     "name": "stdout",
     "output_type": "stream",
     "text": [
      "Reversed (slicing): [5, 4, 3, 2, 1]\n",
      "Reversed (loop): [5, 4, 3, 2, 1]\n"
     ]
    }
   ],
   "source": [
    "lst = [1, 2, 3, 4, 5]\n",
    "print(\"Reversed (slicing):\", lst[::-1])\n",
    "reversed_list = []\n",
    "for i in range(len(lst)-1, -1, -1):\n",
    "    reversed_list.append(lst[i])\n",
    "print(\"Reversed (loop):\", reversed_list)"
   ]
  },
  {
   "cell_type": "markdown",
   "id": "8ce2f6e8",
   "metadata": {},
   "source": [
    "# 5. Merge two sorted lists into a single sorted list"
   ]
  },
  {
   "cell_type": "code",
   "execution_count": 5,
   "id": "0ce32757",
   "metadata": {},
   "outputs": [
    {
     "name": "stdout",
     "output_type": "stream",
     "text": [
      "Merged Sorted List: [1, 2, 3, 4, 5, 6, 7, 8]\n"
     ]
    }
   ],
   "source": [
    "list1 = [1, 3, 5, 7]\n",
    "list2 = [2, 4, 6, 8]\n",
    "merged = sorted(list1 + list2)\n",
    "print(\"Merged Sorted List:\", merged)"
   ]
  },
  {
   "cell_type": "markdown",
   "id": "1bc20c77",
   "metadata": {},
   "source": [
    "# 6. Convert a list into a tuple and vice versa"
   ]
  },
  {
   "cell_type": "code",
   "execution_count": 6,
   "id": "7cb3c92c",
   "metadata": {},
   "outputs": [
    {
     "name": "stdout",
     "output_type": "stream",
     "text": [
      "As Tuple: (1, 2, 3, 4)\n",
      "Back to List: [1, 2, 3, 4]\n"
     ]
    }
   ],
   "source": [
    "my_list = [1, 2, 3, 4]\n",
    "my_tuple = tuple(my_list)\n",
    "print(\"As Tuple:\", my_tuple)\n",
    "converted_back = list(my_tuple)\n",
    "print(\"Back to List:\", converted_back)"
   ]
  },
  {
   "cell_type": "markdown",
   "id": "644da34c",
   "metadata": {},
   "source": [
    "# 7. Find the common elements in two sets"
   ]
  },
  {
   "cell_type": "code",
   "execution_count": 7,
   "id": "74479483",
   "metadata": {},
   "outputs": [
    {
     "name": "stdout",
     "output_type": "stream",
     "text": [
      "Common elements: {4, 5}\n"
     ]
    }
   ],
   "source": [
    "set1 = {1, 2, 3, 4, 5}\n",
    "set2 = {4, 5, 6, 7}\n",
    "common = set1 & set2\n",
    "print(\"Common elements:\", common)"
   ]
  },
  {
   "cell_type": "markdown",
   "id": "fed9feb3",
   "metadata": {},
   "source": [
    "# 8. Remove duplicate elements from a list using a set"
   ]
  },
  {
   "cell_type": "code",
   "execution_count": 8,
   "id": "71e8a223",
   "metadata": {},
   "outputs": [
    {
     "name": "stdout",
     "output_type": "stream",
     "text": [
      "Without duplicates: [1, 2, 3, 4, 5]\n"
     ]
    }
   ],
   "source": [
    "numbers = [1, 2, 2, 3, 4, 4, 5]\n",
    "unique = list(dict.fromkeys(numbers))  # preserves order\n",
    "print(\"Without duplicates:\", unique)"
   ]
  },
  {
   "cell_type": "markdown",
   "id": "ba70850f",
   "metadata": {},
   "source": [
    "# 9. Check if two sets are disjoint"
   ]
  },
  {
   "cell_type": "code",
   "execution_count": 9,
   "id": "5c3dc7f7",
   "metadata": {},
   "outputs": [
    {
     "name": "stdout",
     "output_type": "stream",
     "text": [
      "Are disjoint? True\n"
     ]
    }
   ],
   "source": [
    "a = {1, 2, 3}\n",
    "b = {4, 5, 6}\n",
    "print(\"Are disjoint?\", a.isdisjoint(b))"
   ]
  },
  {
   "cell_type": "markdown",
   "id": "ac778d1b",
   "metadata": {},
   "source": [
    "# 10. Create a set from user input and check membership of an element"
   ]
  },
  {
   "cell_type": "code",
   "execution_count": 10,
   "id": "b94d2a27",
   "metadata": {},
   "outputs": [
    {
     "name": "stdin",
     "output_type": "stream",
     "text": [
      "Enter elements separated by space:  1 2 3 5\n",
      "Enter an element to check:  3\n"
     ]
    },
    {
     "name": "stdout",
     "output_type": "stream",
     "text": [
      "Element present? True\n"
     ]
    }
   ],
   "source": [
    "# Example: input: 1 2 3 4 5\n",
    "user_input = input(\"Enter elements separated by space: \").split()\n",
    "try:\n",
    "    user_set = set(map(int, user_input))\n",
    "except ValueError:\n",
    "    user_set = set(user_input)\n",
    "element = input(\"Enter an element to check: \")\n",
    "try:\n",
    "    element_converted = int(element)\n",
    "except ValueError:\n",
    "    element_converted = element\n",
    "print(\"Element present?\", element_converted in user_set)"
   ]
  },
  {
   "cell_type": "markdown",
   "id": "844adb20",
   "metadata": {},
   "source": [
    "# 11. Count frequency of each character in a string using a dictionary"
   ]
  },
  {
   "cell_type": "code",
   "execution_count": 11,
   "id": "f224ab10",
   "metadata": {},
   "outputs": [
    {
     "name": "stdout",
     "output_type": "stream",
     "text": [
      "Character Frequency: {'p': 1, 'r': 2, 'o': 1, 'g': 2, 'a': 1, 'm': 2, 'i': 1, 'n': 1}\n"
     ]
    }
   ],
   "source": [
    "text = \"programming\"\n",
    "freq = {}\n",
    "for char in text:\n",
    "    freq[char] = freq.get(char, 0) + 1\n",
    "print(\"Character Frequency:\", freq)"
   ]
  },
  {
   "cell_type": "markdown",
   "id": "93ddf4a7",
   "metadata": {},
   "source": [
    "# 12. Create a dictionary from two lists: keys and values"
   ]
  },
  {
   "cell_type": "code",
   "execution_count": 12,
   "id": "d3d82a8c",
   "metadata": {},
   "outputs": [
    {
     "name": "stdout",
     "output_type": "stream",
     "text": [
      "Created Dictionary: {'name': 'Alice', 'age': 25, 'city': 'New York'}\n"
     ]
    }
   ],
   "source": [
    "keys = ['name', 'age', 'city']\n",
    "values = ['Alice', 25, 'New York']\n",
    "my_dict = dict(zip(keys, values))\n",
    "print(\"Created Dictionary:\", my_dict)"
   ]
  },
  {
   "cell_type": "markdown",
   "id": "f942319b",
   "metadata": {},
   "source": [
    "# 13. Sort a dictionary by its values"
   ]
  },
  {
   "cell_type": "code",
   "execution_count": 13,
   "id": "d1c7b56a",
   "metadata": {},
   "outputs": [
    {
     "name": "stdout",
     "output_type": "stream",
     "text": [
      "Sorted by Values: {'b': 1, 'd': 2, 'a': 3, 'c': 5}\n"
     ]
    }
   ],
   "source": [
    "data = {'a': 3, 'b': 1, 'c': 5, 'd': 2}\n",
    "sorted_dict = dict(sorted(data.items(), key=lambda item: item[1]))\n",
    "print(\"Sorted by Values:\", sorted_dict)"
   ]
  },
  {
   "cell_type": "markdown",
   "id": "a8c8deba",
   "metadata": {},
   "source": [
    "# 14. Merge two dictionaries into one"
   ]
  },
  {
   "cell_type": "code",
   "execution_count": 14,
   "id": "57519441",
   "metadata": {},
   "outputs": [
    {
     "name": "stdout",
     "output_type": "stream",
     "text": [
      "Merged Dictionary: {'x': 1, 'y': 3, 'z': 4}\n"
     ]
    }
   ],
   "source": [
    "dict1 = {'x': 1, 'y': 2}\n",
    "dict2 = {'y': 3, 'z': 4}\n",
    "merged = dict1.copy()\n",
    "merged.update(dict2)\n",
    "print(\"Merged Dictionary:\", merged)"
   ]
  },
  {
   "cell_type": "markdown",
   "id": "6ac0202f",
   "metadata": {},
   "source": [
    "# 15. Find the key with the highest value in a dictionary"
   ]
  },
  {
   "cell_type": "code",
   "execution_count": 15,
   "id": "1c97f744",
   "metadata": {},
   "outputs": [
    {
     "name": "stdout",
     "output_type": "stream",
     "text": [
      "Highest Value Key: Bob → 92\n"
     ]
    }
   ],
   "source": [
    "scores = {'Alice': 85, 'Bob': 92, 'Charlie': 78}\n",
    "max_key = max(scores, key=scores.get)\n",
    "print(\"Highest Value Key:\", max_key, \"→\", scores[max_key])"
   ]
  },
  {
   "cell_type": "markdown",
   "id": "b83865c5",
   "metadata": {},
   "source": [
    "# 16. Function that checks if a number is prime"
   ]
  },
  {
   "cell_type": "code",
   "execution_count": 16,
   "id": "ac51d5c1",
   "metadata": {},
   "outputs": [
    {
     "name": "stdout",
     "output_type": "stream",
     "text": [
      "True\n"
     ]
    }
   ],
   "source": [
    "def is_prime(n):\n",
    "    if n <= 1:\n",
    "        return False\n",
    "    if n <= 3:\n",
    "        return True\n",
    "    if n % 2 == 0:\n",
    "        return False\n",
    "    i = 3\n",
    "    while i * i <= n:\n",
    "        if n % i == 0:\n",
    "            return False\n",
    "        i += 2\n",
    "    return True\n",
    "print(is_prime(7))"
   ]
  },
  {
   "cell_type": "markdown",
   "id": "966fe979",
   "metadata": {},
   "source": [
    "# 17. Function that returns number of vowels in a string"
   ]
  },
  {
   "cell_type": "code",
   "execution_count": 17,
   "id": "1997e79e",
   "metadata": {},
   "outputs": [
    {
     "name": "stdout",
     "output_type": "stream",
     "text": [
      "3\n"
     ]
    }
   ],
   "source": [
    "def count_vowels(s):\n",
    "    vowels = 'aeiouAEIOU'\n",
    "    return sum(1 for char in s if char in vowels)\n",
    "print(count_vowels('Hello World'))"
   ]
  },
  {
   "cell_type": "markdown",
   "id": "36581e32",
   "metadata": {},
   "source": [
    "# 18. Function that returns only even numbers from a list"
   ]
  },
  {
   "cell_type": "code",
   "execution_count": 18,
   "id": "a66f87ff",
   "metadata": {},
   "outputs": [
    {
     "name": "stdout",
     "output_type": "stream",
     "text": [
      "[2, 4, 6]\n"
     ]
    }
   ],
   "source": [
    "def get_even(nums):\n",
    "    return [n for n in nums if n % 2 == 0]\n",
    "print(get_even([1,2,3,4,5,6]))"
   ]
  },
  {
   "cell_type": "markdown",
   "id": "91d54d78",
   "metadata": {},
   "source": [
    "# 19. Recursive function to calculate factorial"
   ]
  },
  {
   "cell_type": "code",
   "execution_count": 19,
   "id": "4300d8b7",
   "metadata": {},
   "outputs": [
    {
     "name": "stdout",
     "output_type": "stream",
     "text": [
      "120\n"
     ]
    }
   ],
   "source": [
    "def factorial(n):\n",
    "    if n == 0 or n == 1:\n",
    "        return 1\n",
    "    return n * factorial(n-1)\n",
    "print(factorial(5))"
   ]
  },
  {
   "cell_type": "markdown",
   "id": "0fecfdbf",
   "metadata": {},
   "source": [
    "# 20. Function that returns the nth Fibonacci number using recursion"
   ]
  },
  {
   "cell_type": "code",
   "execution_count": 20,
   "id": "7039e459",
   "metadata": {},
   "outputs": [
    {
     "name": "stdout",
     "output_type": "stream",
     "text": [
      "13\n"
     ]
    }
   ],
   "source": [
    "def fibonacci(n):\n",
    "    if n <= 1:\n",
    "        return n\n",
    "    return fibonacci(n-1) + fibonacci(n-2)\n",
    "print(fibonacci(7))"
   ]
  },
  {
   "cell_type": "markdown",
   "id": "6066ad94",
   "metadata": {},
   "source": [
    "# 21. Function that returns a dictionary with the count of each element in a list"
   ]
  },
  {
   "cell_type": "code",
   "execution_count": 21,
   "id": "6c739d5d",
   "metadata": {},
   "outputs": [
    {
     "name": "stdout",
     "output_type": "stream",
     "text": [
      "{1: 1, 2: 2, 3: 3}\n"
     ]
    }
   ],
   "source": [
    "def count_elements(lst):\n",
    "    counts = {}\n",
    "    for i in lst:\n",
    "        counts[i] = counts.get(i, 0) + 1\n",
    "    return counts\n",
    "print(count_elements([1,2,2,3,3,3]))"
   ]
  },
  {
   "cell_type": "markdown",
   "id": "8bc26afc",
   "metadata": {},
   "source": [
    "# 22. Function that returns the longest word from a list of words"
   ]
  },
  {
   "cell_type": "code",
   "execution_count": 22,
   "id": "ea0a82ce",
   "metadata": {},
   "outputs": [
    {
     "name": "stdout",
     "output_type": "stream",
     "text": [
      "banana\n"
     ]
    }
   ],
   "source": [
    "def longest_word(words):\n",
    "    if not words:\n",
    "        return None\n",
    "    return max(words, key=len)\n",
    "print(longest_word(['apple','banana','kiwi']))"
   ]
  },
  {
   "cell_type": "markdown",
   "id": "6b2ad396",
   "metadata": {},
   "source": [
    "# 23. Function that accepts any number of arguments and returns their average"
   ]
  },
  {
   "cell_type": "code",
   "execution_count": 23,
   "id": "8fdc6b2c",
   "metadata": {},
   "outputs": [
    {
     "name": "stdout",
     "output_type": "stream",
     "text": [
      "20.0\n"
     ]
    }
   ],
   "source": [
    "def average(*args):\n",
    "    if not args:\n",
    "        return 0\n",
    "    return sum(args)/len(args)\n",
    "print(average(10,20,30))"
   ]
  },
  {
   "cell_type": "markdown",
   "id": "c1180464",
   "metadata": {},
   "source": [
    "# 24. Function with default arguments for username and age and print greeting"
   ]
  },
  {
   "cell_type": "code",
   "execution_count": 24,
   "id": "84d6ae9a",
   "metadata": {},
   "outputs": [
    {
     "name": "stdout",
     "output_type": "stream",
     "text": [
      "Hello User, you are 18 years old.\n",
      "Hello Alice, you are 22 years old.\n"
     ]
    }
   ],
   "source": [
    "def greet(name='User', age=18):\n",
    "    print(f'Hello {name}, you are {age} years old.')\n",
    "greet()\n",
    "greet('Alice', 22)"
   ]
  },
  {
   "cell_type": "markdown",
   "id": "612803b1",
   "metadata": {},
   "source": [
    "# 25. Use a lambda to sort a list of tuples by the second element"
   ]
  },
  {
   "cell_type": "code",
   "execution_count": 25,
   "id": "24395e82",
   "metadata": {},
   "outputs": [
    {
     "name": "stdout",
     "output_type": "stream",
     "text": [
      "[(3, 1), (2, 4), (1, 5)]\n"
     ]
    }
   ],
   "source": [
    "pairs = [(1,5),(3,1),(2,4)]\n",
    "pairs.sort(key=lambda x: x[1])\n",
    "print(pairs)"
   ]
  },
  {
   "cell_type": "markdown",
   "id": "88f1e017",
   "metadata": {},
   "source": [
    "# 26. Function that accepts a list and a condition function and returns filtered list"
   ]
  },
  {
   "cell_type": "code",
   "execution_count": 26,
   "id": "9c5e3b63",
   "metadata": {},
   "outputs": [
    {
     "name": "stdout",
     "output_type": "stream",
     "text": [
      "[2, 4, 6]\n"
     ]
    }
   ],
   "source": [
    "def filter_list(nums, condition):\n",
    "    return [n for n in nums if condition(n)]\n",
    "print(filter_list([1,2,3,4,5,6], lambda x: x%2==0))"
   ]
  },
  {
   "cell_type": "markdown",
   "id": "b6eb53ca",
   "metadata": {},
   "source": [
    "# 27. Function to check whether a string is a palindrome"
   ]
  },
  {
   "cell_type": "code",
   "execution_count": 27,
   "id": "83b2ca93",
   "metadata": {},
   "outputs": [
    {
     "name": "stdout",
     "output_type": "stream",
     "text": [
      "True\n"
     ]
    }
   ],
   "source": [
    "def is_palindrome(s):\n",
    "    s_clean = ''.join(ch.lower() for ch in s if ch.isalnum())\n",
    "    return s_clean == s_clean[::-1]\n",
    "print(is_palindrome('Madam'))"
   ]
  },
  {
   "cell_type": "markdown",
   "id": "013625f6",
   "metadata": {},
   "source": [
    "# 28. Function to return the GCD of two numbers"
   ]
  },
  {
   "cell_type": "code",
   "execution_count": 28,
   "id": "1b01c610",
   "metadata": {},
   "outputs": [
    {
     "name": "stdout",
     "output_type": "stream",
     "text": [
      "6\n"
     ]
    }
   ],
   "source": [
    "def gcd(a,b):\n",
    "    while b:\n",
    "        a, b = b, a % b\n",
    "    return a\n",
    "print(gcd(54,24))"
   ]
  },
  {
   "cell_type": "markdown",
   "id": "cbe742ce",
   "metadata": {},
   "source": [
    "# 29. Function that returns another function (closure) that adds a fixed number"
   ]
  },
  {
   "cell_type": "code",
   "execution_count": 29,
   "id": "1d501d03",
   "metadata": {},
   "outputs": [
    {
     "name": "stdout",
     "output_type": "stream",
     "text": [
      "15\n"
     ]
    }
   ],
   "source": [
    "def add_fixed(num):\n",
    "    def adder(x):\n",
    "        return x + num\n",
    "    return adder\n",
    "add5 = add_fixed(5)\n",
    "print(add5(10))"
   ]
  },
  {
   "cell_type": "markdown",
   "id": "9d8ceb86",
   "metadata": {},
   "source": [
    "# 30. Function to flatten a nested list"
   ]
  },
  {
   "cell_type": "code",
   "execution_count": 30,
   "id": "adfc02ee",
   "metadata": {},
   "outputs": [
    {
     "name": "stdout",
     "output_type": "stream",
     "text": [
      "[1, 2, 3, 4]\n"
     ]
    }
   ],
   "source": [
    "def flatten(nested):\n",
    "    flat = []\n",
    "    for sub in nested:\n",
    "        for item in sub:\n",
    "            flat.append(item)\n",
    "    return flat\n",
    "print(flatten([[1,2],[3,4]]))"
   ]
  },
  {
   "cell_type": "markdown",
   "id": "b0ee8fe4",
   "metadata": {},
   "source": [
    "# 31. Recursive function to calculate the sum of a list"
   ]
  },
  {
   "cell_type": "code",
   "execution_count": 31,
   "id": "e3835056",
   "metadata": {},
   "outputs": [
    {
     "name": "stdout",
     "output_type": "stream",
     "text": [
      "10\n"
     ]
    }
   ],
   "source": [
    "def recursive_sum(lst):\n",
    "    if not lst:\n",
    "        return 0\n",
    "    return lst[0] + recursive_sum(lst[1:])\n",
    "print(recursive_sum([1,2,3,4]))"
   ]
  },
  {
   "cell_type": "markdown",
   "id": "86adb2c3",
   "metadata": {},
   "source": [
    "# 32. Function that takes two lists and returns a dictionary mapping first to second"
   ]
  },
  {
   "cell_type": "code",
   "execution_count": 32,
   "id": "d269e291",
   "metadata": {},
   "outputs": [
    {
     "name": "stdout",
     "output_type": "stream",
     "text": [
      "{'a': 1, 'b': 2, 'c': 3}\n"
     ]
    }
   ],
   "source": [
    "def list_to_dict(keys, values):\n",
    "    return dict(zip(keys, values))\n",
    "print(list_to_dict(['a','b','c'], [1,2,3]))"
   ]
  },
  {
   "cell_type": "markdown",
   "id": "be4b7de2",
   "metadata": {},
   "source": [
    "# 33. Create a function to return all prime numbers in a range"
   ]
  },
  {
   "cell_type": "code",
   "execution_count": 33,
   "id": "001414f0",
   "metadata": {},
   "outputs": [
    {
     "name": "stdout",
     "output_type": "stream",
     "text": [
      "[11, 13, 17, 19, 23, 29]\n"
     ]
    }
   ],
   "source": [
    "def primes_in_range(start, end):\n",
    "    return [n for n in range(start, end+1) if is_prime(n)]\n",
    "print(primes_in_range(10,30))"
   ]
  },
  {
   "cell_type": "markdown",
   "id": "e63699b0",
   "metadata": {},
   "source": [
    "# 34. Function that mimics zip()"
   ]
  },
  {
   "cell_type": "code",
   "execution_count": 34,
   "id": "bea1efd1",
   "metadata": {},
   "outputs": [
    {
     "name": "stdout",
     "output_type": "stream",
     "text": [
      "[(1, 'a'), (2, 'b'), (3, 'c')]\n"
     ]
    }
   ],
   "source": [
    "def my_zip(list1, list2):\n",
    "    return [(list1[i], list2[i]) for i in range(min(len(list1), len(list2)))]\n",
    "print(my_zip([1,2,3], ['a','b','c']))"
   ]
  },
  {
   "cell_type": "markdown",
   "id": "921561df",
   "metadata": {},
   "source": [
    "# 35. Function that calculates compound interest given principal, rate, time"
   ]
  },
  {
   "cell_type": "code",
   "execution_count": 35,
   "id": "0937c5af",
   "metadata": {},
   "outputs": [
    {
     "name": "stdout",
     "output_type": "stream",
     "text": [
      "102.5\n"
     ]
    }
   ],
   "source": [
    "def compound_interest(p, r, t):\n",
    "    amount = p * (1 + r/100) ** t\n",
    "    return round(amount - p, 2)\n",
    "print(compound_interest(1000, 5, 2))"
   ]
  },
  {
   "cell_type": "markdown",
   "id": "188601ec",
   "metadata": {},
   "source": [
    "# 36. Use a lambda to add 10 to a number"
   ]
  },
  {
   "cell_type": "code",
   "execution_count": 36,
   "id": "7c12aafd",
   "metadata": {},
   "outputs": [
    {
     "name": "stdout",
     "output_type": "stream",
     "text": [
      "15\n"
     ]
    }
   ],
   "source": [
    "add10 = lambda x: x + 10\n",
    "print(add10(5))"
   ]
  },
  {
   "cell_type": "markdown",
   "id": "987e3894",
   "metadata": {},
   "source": [
    "# 37. Sort a list of tuples based on second element using lambda"
   ]
  },
  {
   "cell_type": "code",
   "execution_count": 37,
   "id": "adc96cd9",
   "metadata": {},
   "outputs": [
    {
     "name": "stdout",
     "output_type": "stream",
     "text": [
      "[(2, 1), (3, 2), (1, 3)]\n"
     ]
    }
   ],
   "source": [
    "tuples = [(1,3),(2,1),(3,2)]\n",
    "sorted_tuples = sorted(tuples, key=lambda x: x[1])\n",
    "print(sorted_tuples)"
   ]
  },
  {
   "cell_type": "markdown",
   "id": "43787855",
   "metadata": {},
   "source": [
    "# 38. Sort a list of dictionaries by the value of a specific key using lambda"
   ]
  },
  {
   "cell_type": "code",
   "execution_count": 38,
   "id": "aa7fc3ef",
   "metadata": {},
   "outputs": [
    {
     "name": "stdout",
     "output_type": "stream",
     "text": [
      "[{'name': 'B', 'age': 25}, {'name': 'A', 'age': 30}, {'name': 'C', 'age': 35}]\n"
     ]
    }
   ],
   "source": [
    "people = [{'name':'A','age':30},{'name':'B','age':25},{'name':'C','age':35}]\n",
    "sorted_people = sorted(people, key=lambda x: x['age'])\n",
    "print(sorted_people)"
   ]
  },
  {
   "cell_type": "markdown",
   "id": "28b0a38b",
   "metadata": {},
   "source": [
    "# 39. Use lambda with map() to square each element in a list"
   ]
  },
  {
   "cell_type": "code",
   "execution_count": 39,
   "id": "e20edd08",
   "metadata": {},
   "outputs": [
    {
     "name": "stdout",
     "output_type": "stream",
     "text": [
      "[1, 4, 9, 16]\n"
     ]
    }
   ],
   "source": [
    "nums = [1,2,3,4]\n",
    "squares = list(map(lambda x: x**2, nums))\n",
    "print(squares)"
   ]
  },
  {
   "cell_type": "markdown",
   "id": "871f3e4e",
   "metadata": {},
   "source": [
    "# 40. Use lambda with filter() to get only even numbers from a list"
   ]
  },
  {
   "cell_type": "code",
   "execution_count": 40,
   "id": "cb1a0975",
   "metadata": {},
   "outputs": [
    {
     "name": "stdout",
     "output_type": "stream",
     "text": [
      "[2, 4, 6]\n"
     ]
    }
   ],
   "source": [
    "nums = [1,2,3,4,5,6]\n",
    "evens = list(filter(lambda x: x%2==0, nums))\n",
    "print(evens)"
   ]
  },
  {
   "cell_type": "markdown",
   "id": "f2b27e2a",
   "metadata": {},
   "source": [
    "# 41. Use lambda with reduce() to multiply all elements in a list"
   ]
  },
  {
   "cell_type": "code",
   "execution_count": 41,
   "id": "6d0c93da",
   "metadata": {},
   "outputs": [
    {
     "name": "stdout",
     "output_type": "stream",
     "text": [
      "24\n"
     ]
    }
   ],
   "source": [
    "from functools import reduce\n",
    "nums = [1,2,3,4]\n",
    "product = reduce(lambda x,y: x*y, nums)\n",
    "print(product)"
   ]
  },
  {
   "cell_type": "markdown",
   "id": "5f1dfd5b",
   "metadata": {},
   "source": [
    "# 42. Create a lambda to check if a number is divisible by both 3 and 5"
   ]
  },
  {
   "cell_type": "code",
   "execution_count": 42,
   "id": "fdbdf82c",
   "metadata": {},
   "outputs": [
    {
     "name": "stdout",
     "output_type": "stream",
     "text": [
      "True False\n"
     ]
    }
   ],
   "source": [
    "div35 = lambda x: x%3==0 and x%5==0\n",
    "print(div35(15), div35(10))"
   ]
  },
  {
   "cell_type": "markdown",
   "id": "30343306",
   "metadata": {},
   "source": [
    "# 43. Use lambda with map() to convert Celsius to Fahrenheit"
   ]
  },
  {
   "cell_type": "code",
   "execution_count": 43,
   "id": "94c848da",
   "metadata": {},
   "outputs": [
    {
     "name": "stdout",
     "output_type": "stream",
     "text": [
      "[32.0, 50.0, 68.0, 86.0]\n"
     ]
    }
   ],
   "source": [
    "celsius = [0,10,20,30]\n",
    "fahrenheit = list(map(lambda c: (c*9/5)+32, celsius))\n",
    "print(fahrenheit)"
   ]
  },
  {
   "cell_type": "markdown",
   "id": "51bff5e2",
   "metadata": {},
   "source": [
    "# 44. Use lambda to sort a list of strings based on their length"
   ]
  },
  {
   "cell_type": "code",
   "execution_count": 44,
   "id": "a28bf9b0",
   "metadata": {},
   "outputs": [
    {
     "name": "stdout",
     "output_type": "stream",
     "text": [
      "['fig', 'kiwi', 'apple', 'banana']\n"
     ]
    }
   ],
   "source": [
    "fruits = ['apple','kiwi','banana','fig']\n",
    "sorted_by_length = sorted(fruits, key=lambda s: len(s))\n",
    "print(sorted_by_length)"
   ]
  },
  {
   "cell_type": "markdown",
   "id": "3b8ad7d3",
   "metadata": {},
   "source": [
    "# 45. Lambda that returns True if a string starts with a vowel"
   ]
  },
  {
   "cell_type": "code",
   "execution_count": 45,
   "id": "58a689af",
   "metadata": {},
   "outputs": [
    {
     "name": "stdout",
     "output_type": "stream",
     "text": [
      "True False\n"
     ]
    }
   ],
   "source": [
    "starts_vowel = lambda s: s[0].lower() in 'aeiou' if s else False\n",
    "print(starts_vowel('apple'), starts_vowel('banana'))"
   ]
  },
  {
   "cell_type": "markdown",
   "id": "203d811c",
   "metadata": {},
   "source": [
    "# 46. Use lambda inside a function that returns a power function (closure)"
   ]
  },
  {
   "cell_type": "code",
   "execution_count": 46,
   "id": "b27442dc",
   "metadata": {},
   "outputs": [
    {
     "name": "stdout",
     "output_type": "stream",
     "text": [
      "25\n"
     ]
    }
   ],
   "source": [
    "def power_function(n):\n",
    "    return lambda x: x ** n\n",
    "square = power_function(2)\n",
    "print(square(5))"
   ]
  },
  {
   "cell_type": "markdown",
   "id": "674de0c8",
   "metadata": {},
   "source": [
    "# 47. Lambda to extract domain names from a list of email addresses"
   ]
  },
  {
   "cell_type": "code",
   "execution_count": 47,
   "id": "58661eb0",
   "metadata": {},
   "outputs": [
    {
     "name": "stdout",
     "output_type": "stream",
     "text": [
      "['example.com', 'test.org']\n"
     ]
    }
   ],
   "source": [
    "emails = ['alice@example.com','bob@test.org']\n",
    "domains = list(map(lambda e: e.split('@')[-1], emails))\n",
    "print(domains)"
   ]
  },
  {
   "cell_type": "markdown",
   "id": "18af743f",
   "metadata": {},
   "source": [
    "# 48. Use lambda with filter() to remove empty strings from a list"
   ]
  },
  {
   "cell_type": "code",
   "execution_count": 48,
   "id": "7ad4094a",
   "metadata": {},
   "outputs": [
    {
     "name": "stdout",
     "output_type": "stream",
     "text": [
      "['a', 'b', 'c']\n"
     ]
    }
   ],
   "source": [
    "strings = ['a','','b','', 'c']\n",
    "non_empty = list(filter(lambda s: s != '', strings))\n",
    "print(non_empty)"
   ]
  },
  {
   "cell_type": "markdown",
   "id": "6be0e1fd",
   "metadata": {},
   "source": [
    "# 49. Create a list of lambda functions each returning multiples of 5"
   ]
  },
  {
   "cell_type": "code",
   "execution_count": 49,
   "id": "1a38675e",
   "metadata": {},
   "outputs": [
    {
     "name": "stdout",
     "output_type": "stream",
     "text": [
      "5\n",
      "10\n",
      "15\n",
      "20\n",
      "25\n"
     ]
    }
   ],
   "source": [
    "funcs = [ (lambda n: (lambda x: x*n))(i) for i in range(1,6) ]  # closures to capture i\n",
    "for f in funcs:\n",
    "    print(f(5))  # prints 5,10,15,20,25"
   ]
  },
  {
   "cell_type": "markdown",
   "id": "17a77c68",
   "metadata": {},
   "source": [
    "# 50. Use a lambda to find max element in list of tuples by sum of tuple elements"
   ]
  },
  {
   "cell_type": "code",
   "execution_count": 50,
   "id": "fd1bb207",
   "metadata": {},
   "outputs": [
    {
     "name": "stdout",
     "output_type": "stream",
     "text": [
      "(0, 10)\n"
     ]
    }
   ],
   "source": [
    "tuples = [(1,2),(3,4),(0,10)]\n",
    "max_by_sum = max(tuples, key=lambda t: sum(t))\n",
    "print(max_by_sum)"
   ]
  },
  {
   "cell_type": "markdown",
   "id": "a20e6657",
   "metadata": {},
   "source": [
    "# 51. Use lambda and map() to convert a list of integers to strings"
   ]
  },
  {
   "cell_type": "code",
   "execution_count": 51,
   "id": "86249680",
   "metadata": {},
   "outputs": [
    {
     "name": "stdout",
     "output_type": "stream",
     "text": [
      "['1', '2', '3']\n"
     ]
    }
   ],
   "source": [
    "nums = [1,2,3]\n",
    "str_nums = list(map(lambda x: str(x), nums))\n",
    "print(str_nums)"
   ]
  },
  {
   "cell_type": "markdown",
   "id": "5c742d26",
   "metadata": {},
   "source": [
    "# 52. Use lambda with filter() to extract palindromic words from a list"
   ]
  },
  {
   "cell_type": "code",
   "execution_count": 52,
   "id": "55b7c9d5",
   "metadata": {},
   "outputs": [
    {
     "name": "stdout",
     "output_type": "stream",
     "text": [
      "['level', 'radar']\n"
     ]
    }
   ],
   "source": [
    "words = ['level','hello','radar','world']\n",
    "palindromes = list(filter(lambda w: w==w[::-1], words))\n",
    "print(palindromes)"
   ]
  },
  {
   "cell_type": "markdown",
   "id": "2c5d47de",
   "metadata": {},
   "source": [
    "# 53. Use lambda with sorted() to sort list of strings by their last character"
   ]
  },
  {
   "cell_type": "code",
   "execution_count": 53,
   "id": "c8e0b66d",
   "metadata": {},
   "outputs": [
    {
     "name": "stdout",
     "output_type": "stream",
     "text": [
      "['banana', 'apple', 'kiwi', 'pear']\n"
     ]
    }
   ],
   "source": [
    "words = ['apple','banana','pear','kiwi']\n",
    "sorted_last = sorted(words, key=lambda s: s[-1])\n",
    "print(sorted_last)"
   ]
  },
  {
   "cell_type": "markdown",
   "id": "e86a48c1",
   "metadata": {},
   "source": [
    "# 54. Combine lambda, map(), and zip() to add two lists element-wise"
   ]
  },
  {
   "cell_type": "code",
   "execution_count": 54,
   "id": "f6580526",
   "metadata": {},
   "outputs": [
    {
     "name": "stdout",
     "output_type": "stream",
     "text": [
      "[5, 7, 9]\n"
     ]
    }
   ],
   "source": [
    "a = [1,2,3]\n",
    "b = [4,5,6]\n",
    "summed = list(map(lambda x: x[0]+x[1], zip(a,b)))\n",
    "print(summed)"
   ]
  },
  {
   "cell_type": "markdown",
   "id": "eb0844d9",
   "metadata": {},
   "source": [
    "# 55. Use lambda to count how many strings in a list have length > 5"
   ]
  },
  {
   "cell_type": "code",
   "execution_count": 55,
   "id": "2d80f6ea",
   "metadata": {},
   "outputs": [
    {
     "name": "stdout",
     "output_type": "stream",
     "text": [
      "2\n"
     ]
    }
   ],
   "source": [
    "strings = ['hello','international','python','data']\n",
    "count = sum(map(lambda s: 1 if len(s)>5 else 0, strings))\n",
    "print(count)"
   ]
  },
  {
   "cell_type": "markdown",
   "id": "2d891340",
   "metadata": {},
   "source": [
    "# 56. Create a text file and write 'Hello, World!' into it"
   ]
  },
  {
   "cell_type": "code",
   "execution_count": 56,
   "id": "f6388c12",
   "metadata": {},
   "outputs": [
    {
     "name": "stdout",
     "output_type": "stream",
     "text": [
      "hello_world.txt created\n"
     ]
    }
   ],
   "source": [
    "with open('hello_world.txt','w') as f:\n",
    "    f.write('Hello, World!')\n",
    "print('hello_world.txt created')"
   ]
  },
  {
   "cell_type": "markdown",
   "id": "4eb393a5",
   "metadata": {},
   "source": [
    "# 57. Read contents of a file and print line by line"
   ]
  },
  {
   "cell_type": "code",
   "execution_count": 57,
   "id": "a2c46940",
   "metadata": {},
   "outputs": [
    {
     "name": "stdout",
     "output_type": "stream",
     "text": [
      "Hello, World!\n"
     ]
    }
   ],
   "source": [
    "with open('hello_world.txt','r') as f:\n",
    "    for line in f:\n",
    "        print(line.strip())"
   ]
  },
  {
   "cell_type": "markdown",
   "id": "f67f279a",
   "metadata": {},
   "source": [
    "# 58. Append a new line to an existing file without overwriting"
   ]
  },
  {
   "cell_type": "code",
   "execution_count": 58,
   "id": "c07365c7",
   "metadata": {},
   "outputs": [
    {
     "name": "stdout",
     "output_type": "stream",
     "text": [
      "Appended.\n"
     ]
    }
   ],
   "source": [
    "with open('hello_world.txt','a') as f:\n",
    "    f.write('\\nAppended line.')\n",
    "print('Appended.')"
   ]
  },
  {
   "cell_type": "markdown",
   "id": "ad91506c",
   "metadata": {},
   "source": [
    "# 59. Count the number of words in a given file"
   ]
  },
  {
   "cell_type": "code",
   "execution_count": 59,
   "id": "7eedf128",
   "metadata": {},
   "outputs": [
    {
     "name": "stdout",
     "output_type": "stream",
     "text": [
      "Word count: 4\n"
     ]
    }
   ],
   "source": [
    "with open('hello_world.txt','r') as f:\n",
    "    text = f.read()\n",
    "print('Word count:', len(text.split()))"
   ]
  },
  {
   "cell_type": "markdown",
   "id": "2633f422",
   "metadata": {},
   "source": [
    "# 60. Copy contents of one file to another"
   ]
  },
  {
   "cell_type": "code",
   "execution_count": 60,
   "id": "3a0ecd33",
   "metadata": {},
   "outputs": [
    {
     "name": "stdout",
     "output_type": "stream",
     "text": [
      "Copied to copy_hello.txt\n"
     ]
    }
   ],
   "source": [
    "with open('hello_world.txt','r') as src, open('copy_hello.txt','w') as dst:\n",
    "    dst.write(src.read())\n",
    "print('Copied to copy_hello.txt')"
   ]
  },
  {
   "cell_type": "markdown",
   "id": "7e4664ff",
   "metadata": {},
   "source": [
    "# 61. Read a file and count how many lines it has"
   ]
  },
  {
   "cell_type": "code",
   "execution_count": 61,
   "id": "d06c33a7",
   "metadata": {},
   "outputs": [
    {
     "name": "stdout",
     "output_type": "stream",
     "text": [
      "Number of lines: 2\n"
     ]
    }
   ],
   "source": [
    "with open('hello_world.txt','r') as f:\n",
    "    lines = f.readlines()\n",
    "print('Number of lines:', len(lines))"
   ]
  },
  {
   "cell_type": "markdown",
   "id": "872be3b7",
   "metadata": {},
   "source": [
    "# 62. Read a file and display only lines that contain 'Python'"
   ]
  },
  {
   "cell_type": "code",
   "execution_count": 62,
   "id": "1ced4144",
   "metadata": {},
   "outputs": [],
   "source": [
    "with open('hello_world.txt','r') as f:\n",
    "    for line in f:\n",
    "        if 'Python' in line:\n",
    "            print(line.strip())"
   ]
  },
  {
   "cell_type": "markdown",
   "id": "bde65076",
   "metadata": {},
   "source": [
    "# 63. Function that takes filename and returns number of characters in file"
   ]
  },
  {
   "cell_type": "code",
   "execution_count": 63,
   "id": "f10b51a3",
   "metadata": {},
   "outputs": [
    {
     "name": "stdout",
     "output_type": "stream",
     "text": [
      "28\n"
     ]
    }
   ],
   "source": [
    "def count_chars(filename):\n",
    "    with open(filename,'r') as f:\n",
    "        return len(f.read())\n",
    "print(count_chars('hello_world.txt'))"
   ]
  },
  {
   "cell_type": "markdown",
   "id": "abc5299f",
   "metadata": {},
   "source": [
    "# 64. Divide two numbers and handle ZeroDivisionError"
   ]
  },
  {
   "cell_type": "code",
   "execution_count": 64,
   "id": "9e2fc468",
   "metadata": {},
   "outputs": [
    {
     "name": "stdin",
     "output_type": "stream",
     "text": [
      "Enter numerator:  10\n",
      "Enter denominator:  2\n"
     ]
    },
    {
     "name": "stdout",
     "output_type": "stream",
     "text": [
      "Result: 5.0\n"
     ]
    }
   ],
   "source": [
    "try:\n",
    "    a = float(input('Enter numerator: '))\n",
    "    b = float(input('Enter denominator: '))\n",
    "    print('Result:', a/b)\n",
    "except ZeroDivisionError:\n",
    "    print('Cannot divide by zero.')"
   ]
  },
  {
   "cell_type": "markdown",
   "id": "35c8492b",
   "metadata": {},
   "source": [
    "# 65. Read a number and raise ValueError if negative"
   ]
  },
  {
   "cell_type": "code",
   "execution_count": 65,
   "id": "d9620a9c",
   "metadata": {},
   "outputs": [
    {
     "name": "stdin",
     "output_type": "stream",
     "text": [
      "Enter a number:  5\n"
     ]
    },
    {
     "name": "stdout",
     "output_type": "stream",
     "text": [
      "Number is: 5.0\n"
     ]
    }
   ],
   "source": [
    "num = float(input('Enter a number: '))\n",
    "if num < 0:\n",
    "    raise ValueError('Negative number entered')\n",
    "print('Number is:', num)"
   ]
  },
  {
   "cell_type": "markdown",
   "id": "53a1e597",
   "metadata": {},
   "source": [
    "# 66. Open a file that may not exist and handle FileNotFoundError"
   ]
  },
  {
   "cell_type": "code",
   "execution_count": 66,
   "id": "87a52b39",
   "metadata": {},
   "outputs": [
    {
     "name": "stdout",
     "output_type": "stream",
     "text": [
      "File not found.\n"
     ]
    }
   ],
   "source": [
    "try:\n",
    "    with open('maybe_missing.txt','r') as f:\n",
    "        print(f.read())\n",
    "except FileNotFoundError:\n",
    "    print('File not found.')"
   ]
  },
  {
   "cell_type": "markdown",
   "id": "c96c087c",
   "metadata": {},
   "source": [
    "# 67. Create function that handles both ValueError and TypeError while taking input"
   ]
  },
  {
   "cell_type": "code",
   "execution_count": 67,
   "id": "ef6ca177",
   "metadata": {},
   "outputs": [
    {
     "name": "stdin",
     "output_type": "stream",
     "text": [
      "Enter int:  5\n"
     ]
    },
    {
     "name": "stdout",
     "output_type": "stream",
     "text": [
      "5\n"
     ]
    }
   ],
   "source": [
    "def get_int(prompt):\n",
    "    try:\n",
    "        return int(input(prompt))\n",
    "    except (ValueError, TypeError):\n",
    "        print('Invalid input.')\n",
    "        return None\n",
    "print(get_int('Enter int: '))"
   ]
  },
  {
   "cell_type": "markdown",
   "id": "12378ac3",
   "metadata": {},
   "source": [
    "# 68. Use try...except...finally to handle exceptions and close a file properly"
   ]
  },
  {
   "cell_type": "code",
   "execution_count": 68,
   "id": "6f3e5e31",
   "metadata": {},
   "outputs": [
    {
     "name": "stdout",
     "output_type": "stream",
     "text": [
      "Hello, World!\n",
      "Appended line.\n",
      "File closed in finally.\n"
     ]
    }
   ],
   "source": [
    "try:\n",
    "    f = open('hello_world.txt','r')\n",
    "    print(f.read())\n",
    "except Exception as e:\n",
    "    print('Error:', e)\n",
    "finally:\n",
    "    f.close()\n",
    "    print('File closed in finally.')"
   ]
  },
  {
   "cell_type": "markdown",
   "id": "e8aff9cc",
   "metadata": {},
   "source": [
    "# 69. Attempt to convert user input to integer and handle invalid input"
   ]
  },
  {
   "cell_type": "code",
   "execution_count": 101,
   "id": "fdf746f0",
   "metadata": {},
   "outputs": [
    {
     "name": "stdin",
     "output_type": "stream",
     "text": [
      "Enter integer:  5\n"
     ]
    },
    {
     "name": "stdout",
     "output_type": "stream",
     "text": [
      "You entered 5\n"
     ]
    }
   ],
   "source": [
    "try:\n",
    "    x = int(input('Enter integer: '))\n",
    "    print('You entered', x)\n",
    "except ValueError:\n",
    "    print('That is not a valid integer.')"
   ]
  },
  {
   "cell_type": "markdown",
   "id": "bd577d6f",
   "metadata": {},
   "source": [
    "# 70. Use try...except to read from a file and display custom error message"
   ]
  },
  {
   "cell_type": "code",
   "execution_count": 70,
   "id": "b7a08b99",
   "metadata": {},
   "outputs": [
    {
     "name": "stdout",
     "output_type": "stream",
     "text": [
      "Could not read the file. Check path/permissions.\n"
     ]
    }
   ],
   "source": [
    "try:\n",
    "    with open('missing_file.txt','r') as f:\n",
    "        print(f.read())\n",
    "except Exception:\n",
    "    print('Could not read the file. Check path/permissions.')"
   ]
  },
  {
   "cell_type": "markdown",
   "id": "ff2c6dc6",
   "metadata": {},
   "source": [
    "# 71. Create a 4x4 NumPy array filled with random integers 10 to 50 and replace odds with -1"
   ]
  },
  {
   "cell_type": "code",
   "execution_count": 71,
   "id": "2ce3bf29",
   "metadata": {},
   "outputs": [
    {
     "name": "stdout",
     "output_type": "stream",
     "text": [
      "[[-1 -1 -1 38]\n",
      " [14 16 42 -1]\n",
      " [-1 -1 24 -1]\n",
      " [12 -1 38 36]]\n"
     ]
    }
   ],
   "source": [
    "import numpy as np\n",
    "arr = np.random.randint(10,51,(4,4))\n",
    "arr[arr % 2 != 0] = -1\n",
    "print(arr)"
   ]
  },
  {
   "cell_type": "markdown",
   "id": "82ff43d8",
   "metadata": {},
   "source": [
    "# 72. Given 1D NumPy array, compute difference between each element and mean"
   ]
  },
  {
   "cell_type": "code",
   "execution_count": 72,
   "id": "4ccd7d41",
   "metadata": {},
   "outputs": [
    {
     "name": "stdout",
     "output_type": "stream",
     "text": [
      "Differences: [-20. -10.   0.  10.  20.]\n"
     ]
    }
   ],
   "source": [
    "import numpy as np\n",
    "arr = np.array([10,20,30,40,50])\n",
    "mean = arr.mean()\n",
    "diff = arr - mean\n",
    "print('Differences:', diff)"
   ]
  },
  {
   "cell_type": "markdown",
   "id": "25ba15c2",
   "metadata": {},
   "source": [
    "# 73. Create a 5x5 identity matrix and change diagonal values to 9"
   ]
  },
  {
   "cell_type": "code",
   "execution_count": 73,
   "id": "327f5ff9",
   "metadata": {},
   "outputs": [
    {
     "name": "stdout",
     "output_type": "stream",
     "text": [
      "[[9. 0. 0. 0. 0.]\n",
      " [0. 9. 0. 0. 0.]\n",
      " [0. 0. 9. 0. 0.]\n",
      " [0. 0. 0. 9. 0.]\n",
      " [0. 0. 0. 0. 9.]]\n"
     ]
    }
   ],
   "source": [
    "import numpy as np\n",
    "mat = np.identity(5)\n",
    "mat[np.diag_indices(5)] = 9\n",
    "print(mat)"
   ]
  },
  {
   "cell_type": "markdown",
   "id": "72ff06c8",
   "metadata": {},
   "source": [
    "# 74. Stack two NumPy arrays of shape (3,4) vertically and horizontally"
   ]
  },
  {
   "cell_type": "code",
   "execution_count": 74,
   "id": "d6617d7d",
   "metadata": {},
   "outputs": [
    {
     "name": "stdout",
     "output_type": "stream",
     "text": [
      "Vertical stack:\n",
      " [[1 7 2 1]\n",
      " [6 8 2 4]\n",
      " [1 3 7 3]\n",
      " [4 9 9 4]\n",
      " [6 6 8 2]\n",
      " [1 6 5 5]]\n",
      "Horizontal stack:\n",
      " [[1 7 2 1 4 9 9 4]\n",
      " [6 8 2 4 6 6 8 2]\n",
      " [1 3 7 3 1 6 5 5]]\n"
     ]
    }
   ],
   "source": [
    "import numpy as np\n",
    "a = np.random.randint(1,10,(3,4))\n",
    "b = np.random.randint(1,10,(3,4))\n",
    "print('Vertical stack:\\n', np.vstack((a,b)))\n",
    "print('Horizontal stack:\\n', np.hstack((a,b)))"
   ]
  },
  {
   "cell_type": "markdown",
   "id": "cd4bad2c",
   "metadata": {},
   "source": [
    "# 75. Extract all rows from 2D array where first element > 50"
   ]
  },
  {
   "cell_type": "code",
   "execution_count": 75,
   "id": "5ee5b2c2",
   "metadata": {},
   "outputs": [
    {
     "name": "stdout",
     "output_type": "stream",
     "text": [
      "[[86  5 61 13]\n",
      " [65 50 26 87]]\n"
     ]
    }
   ],
   "source": [
    "import numpy as np\n",
    "arr = np.random.randint(0,100,(6,4))\n",
    "filtered = arr[arr[:,0] > 50]\n",
    "print(filtered)"
   ]
  },
  {
   "cell_type": "markdown",
   "id": "733b6f9b",
   "metadata": {},
   "source": [
    "# 76. Create a 6x6 array and extract 3x3 center block"
   ]
  },
  {
   "cell_type": "code",
   "execution_count": 76,
   "id": "5134289c",
   "metadata": {},
   "outputs": [
    {
     "name": "stdout",
     "output_type": "stream",
     "text": [
      "[[ 7  8  9]\n",
      " [13 14 15]\n",
      " [19 20 21]]\n"
     ]
    }
   ],
   "source": [
    "import numpy as np\n",
    "arr = np.arange(36).reshape(6,6)\n",
    "center = arr[1:4,1:4]\n",
    "print(center)"
   ]
  },
  {
   "cell_type": "markdown",
   "id": "e6d93bd3",
   "metadata": {},
   "source": [
    "# 77. Normalize a 1D array (0-1 scale)"
   ]
  },
  {
   "cell_type": "code",
   "execution_count": 77,
   "id": "2eac3d11",
   "metadata": {},
   "outputs": [
    {
     "name": "stdout",
     "output_type": "stream",
     "text": [
      "Normalized: [0.         0.33333333 0.66666667 1.        ]\n"
     ]
    }
   ],
   "source": [
    "import numpy as np\n",
    "arr = np.array([10,20,30,40])\n",
    "norm = (arr - arr.min()) / (arr.max() - arr.min())\n",
    "print('Normalized:', norm)"
   ]
  },
  {
   "cell_type": "markdown",
   "id": "805172f2",
   "metadata": {},
   "source": [
    "# 78. Given 2D array, replace elements greater than average with the average"
   ]
  },
  {
   "cell_type": "code",
   "execution_count": 78,
   "id": "9fd35a3f",
   "metadata": {},
   "outputs": [
    {
     "name": "stdout",
     "output_type": "stream",
     "text": [
      "[[30.  55.5 55.5 34. ]\n",
      " [29.  42.  55.5 55.5]\n",
      " [55.5 22.  46.  55.5]\n",
      " [55.5 20.  38.  55.5]]\n"
     ]
    }
   ],
   "source": [
    "import numpy as np\n",
    "arr = np.random.randint(1,100,(4,4)).astype(float)\n",
    "avg = arr.mean()\n",
    "arr[arr > avg] = avg\n",
    "print(arr)"
   ]
  },
  {
   "cell_type": "markdown",
   "id": "df44a0e6",
   "metadata": {},
   "source": [
    "# 79. Find indices of top 3 maximum elements in 1D array"
   ]
  },
  {
   "cell_type": "code",
   "execution_count": 79,
   "id": "0461e73f",
   "metadata": {},
   "outputs": [
    {
     "name": "stdout",
     "output_type": "stream",
     "text": [
      "Top 3 indices: [3 4 1]\n"
     ]
    }
   ],
   "source": [
    "import numpy as np\n",
    "arr = np.array([10,50,30,80,60])\n",
    "indices = arr.argsort()[-3:][::-1]\n",
    "print('Top 3 indices:', indices)"
   ]
  },
  {
   "cell_type": "markdown",
   "id": "74c75293",
   "metadata": {},
   "source": [
    "# 80. Given 3D array shape (2,3,4), calculate sum across axis 1 and axis 2"
   ]
  },
  {
   "cell_type": "code",
   "execution_count": 80,
   "id": "25d69cd0",
   "metadata": {},
   "outputs": [
    {
     "name": "stdout",
     "output_type": "stream",
     "text": [
      "Sum across axis 1: [[13 16 10 15]\n",
      " [17 18 16 14]]\n",
      "Sum across axis 2: [[14 16 24]\n",
      " [25 21 19]]\n"
     ]
    }
   ],
   "source": [
    "import numpy as np\n",
    "arr = np.random.randint(1,10,(2,3,4))\n",
    "print('Sum across axis 1:', arr.sum(axis=1))\n",
    "print('Sum across axis 2:', arr.sum(axis=2))"
   ]
  },
  {
   "cell_type": "markdown",
   "id": "ec48cd75",
   "metadata": {},
   "source": [
    "# 81. Load CSV into DataFrame and display top 5 rows"
   ]
  },
  {
   "cell_type": "code",
   "execution_count": 81,
   "id": "b40ca752",
   "metadata": {},
   "outputs": [
    {
     "name": "stdout",
     "output_type": "stream",
     "text": [
      "Replace with your CSV file path to load data into df\n"
     ]
    }
   ],
   "source": [
    "import pandas as pd\n",
    "# df = pd.read_csv('data.csv')  # uncomment and set filename\n",
    "# print(df.head())\n",
    "print('Replace with your CSV file path to load data into df')"
   ]
  },
  {
   "cell_type": "markdown",
   "id": "b80c6497",
   "metadata": {},
   "source": [
    "# 82. Check for missing values and count them column-wise"
   ]
  },
  {
   "cell_type": "code",
   "execution_count": 82,
   "id": "b85b070d",
   "metadata": {},
   "outputs": [
    {
     "name": "stdout",
     "output_type": "stream",
     "text": [
      "Use df.isnull().sum() after loading your DataFrame\n"
     ]
    }
   ],
   "source": [
    "# print(df.isnull().sum())  # run after loading df\n",
    "print('Use df.isnull().sum() after loading your DataFrame')"
   ]
  },
  {
   "cell_type": "markdown",
   "id": "3d9e2e66",
   "metadata": {},
   "source": [
    "# 83. Drop all rows from DataFrame that contain any missing values"
   ]
  },
  {
   "cell_type": "code",
   "execution_count": 83,
   "id": "dc017c5f",
   "metadata": {},
   "outputs": [
    {
     "name": "stdout",
     "output_type": "stream",
     "text": [
      "Use df.dropna() to remove rows with missing values\n"
     ]
    }
   ],
   "source": [
    "# df_clean = df.dropna()\n",
    "# print(df_clean)\n",
    "print('Use df.dropna() to remove rows with missing values')"
   ]
  },
  {
   "cell_type": "markdown",
   "id": "c271f9f7",
   "metadata": {},
   "source": [
    "# 84. Fill missing values in a specific column with column's mean"
   ]
  },
  {
   "cell_type": "code",
   "execution_count": 84,
   "id": "4c7e3652",
   "metadata": {},
   "outputs": [
    {
     "name": "stdout",
     "output_type": "stream",
     "text": [
      "Use df[\"col\"].fillna(df[\"col\"].mean(), inplace=True)\n"
     ]
    }
   ],
   "source": [
    "# df['col'] = df['col'].fillna(df['col'].mean())\n",
    "print('Use df[\"col\"].fillna(df[\"col\"].mean(), inplace=True)')"
   ]
  },
  {
   "cell_type": "markdown",
   "id": "98102cb4",
   "metadata": {},
   "source": [
    "# 85. Rename multiple columns in a DataFrame using a dictionary"
   ]
  },
  {
   "cell_type": "code",
   "execution_count": 85,
   "id": "0fb08930",
   "metadata": {},
   "outputs": [
    {
     "name": "stdout",
     "output_type": "stream",
     "text": [
      "Use df.rename(...) to rename columns\n"
     ]
    }
   ],
   "source": [
    "# df.rename(columns={'old1':'new1','old2':'new2'}, inplace=True)\n",
    "print('Use df.rename(...) to rename columns')"
   ]
  },
  {
   "cell_type": "markdown",
   "id": "d0da8e16",
   "metadata": {},
   "source": [
    "# 86. Select rows where a column's value is between two values"
   ]
  },
  {
   "cell_type": "code",
   "execution_count": 86,
   "id": "cade94f2",
   "metadata": {},
   "outputs": [
    {
     "name": "stdout",
     "output_type": "stream",
     "text": [
      "Use boolean indexing to filter rows between values\n"
     ]
    }
   ],
   "source": [
    "# subset = df[(df['Age'] >= 10) & (df['Age'] <= 20)]\n",
    "print('Use boolean indexing to filter rows between values')"
   ]
  },
  {
   "cell_type": "markdown",
   "id": "5bcf7ca5",
   "metadata": {},
   "source": [
    "# 87. Replace all values greater than a threshold with a fixed value"
   ]
  },
  {
   "cell_type": "code",
   "execution_count": 87,
   "id": "7895c9e8",
   "metadata": {},
   "outputs": [
    {
     "name": "stdout",
     "output_type": "stream",
     "text": [
      "Use df[df > threshold] = fixed_value\n"
     ]
    }
   ],
   "source": [
    "# df[df > 100] = 100\n",
    "print('Use df[df > threshold] = fixed_value')"
   ]
  },
  {
   "cell_type": "markdown",
   "id": "0d1cdc69",
   "metadata": {},
   "source": [
    "# 88. Filter rows where two or more conditions are true"
   ]
  },
  {
   "cell_type": "code",
   "execution_count": 88,
   "id": "de15cbbb",
   "metadata": {},
   "outputs": [
    {
     "name": "stdout",
     "output_type": "stream",
     "text": [
      "Use & and | for multiple conditions (with parentheses)\n"
     ]
    }
   ],
   "source": [
    "# filtered = df[(df['Gender']=='Male') & (df['Age']>30)]\n",
    "print('Use & and | for multiple conditions (with parentheses)')"
   ]
  },
  {
   "cell_type": "markdown",
   "id": "6eac293e",
   "metadata": {},
   "source": [
    "# 89. Create a new column that is the result of an arithmetic operation"
   ]
  },
  {
   "cell_type": "code",
   "execution_count": 89,
   "id": "d4f5c5b4",
   "metadata": {},
   "outputs": [
    {
     "name": "stdout",
     "output_type": "stream",
     "text": [
      "Create new columns by assignment\n"
     ]
    }
   ],
   "source": [
    "# df['Total'] = df['Price'] * df['Quantity']\n",
    "print('Create new columns by assignment')"
   ]
  },
  {
   "cell_type": "markdown",
   "id": "4fefce73",
   "metadata": {},
   "source": [
    "# 90. Group the data by one column and calculate the average of another column"
   ]
  },
  {
   "cell_type": "code",
   "execution_count": 90,
   "id": "00b55c88",
   "metadata": {},
   "outputs": [
    {
     "name": "stdout",
     "output_type": "stream",
     "text": [
      "Use groupby and aggregation functions\n"
     ]
    }
   ],
   "source": [
    "# avg_salary = df.groupby('Department')['Salary'].mean()\n",
    "print('Use groupby and aggregation functions')"
   ]
  },
  {
   "cell_type": "markdown",
   "id": "cdb19d4d",
   "metadata": {},
   "source": [
    "# 91. Group by two columns and calculate multiple aggregation metrics (mean, max)"
   ]
  },
  {
   "cell_type": "code",
   "execution_count": 91,
   "id": "5c0dfaed",
   "metadata": {},
   "outputs": [
    {
     "name": "stdout",
     "output_type": "stream",
     "text": [
      "Use agg([...]) for multiple aggregations\n"
     ]
    }
   ],
   "source": [
    "# grouped = df.groupby(['Department','Gender'])['Salary'].agg(['mean','max'])\n",
    "print('Use agg([...]) for multiple aggregations')"
   ]
  },
  {
   "cell_type": "markdown",
   "id": "788d057d",
   "metadata": {},
   "source": [
    "# 92. Sort a DataFrame by two columns: one ascending, one descending"
   ]
  },
  {
   "cell_type": "code",
   "execution_count": 92,
   "id": "02e84a49",
   "metadata": {},
   "outputs": [
    {
     "name": "stdout",
     "output_type": "stream",
     "text": [
      "Use sort_values with ascending list\n"
     ]
    }
   ],
   "source": [
    "# df.sort_values(by=['Dept','Salary'], ascending=[True, False], inplace=True)\n",
    "print('Use sort_values with ascending list')"
   ]
  },
  {
   "cell_type": "markdown",
   "id": "025014b1",
   "metadata": {},
   "source": [
    "# 93. Reset the index of a DataFrame after dropping rows"
   ]
  },
  {
   "cell_type": "code",
   "execution_count": 93,
   "id": "5a09ad85",
   "metadata": {},
   "outputs": [
    {
     "name": "stdout",
     "output_type": "stream",
     "text": [
      "Use reset_index to reindex the DataFrame\n"
     ]
    }
   ],
   "source": [
    "# df.reset_index(drop=True, inplace=True)\n",
    "print('Use reset_index to reindex the DataFrame')"
   ]
  },
  {
   "cell_type": "markdown",
   "id": "79afdc2d",
   "metadata": {},
   "source": [
    "# 94. Create a pivot table showing the average salary by department and gender"
   ]
  },
  {
   "cell_type": "code",
   "execution_count": 94,
   "id": "5825f18f",
   "metadata": {},
   "outputs": [
    {
     "name": "stdout",
     "output_type": "stream",
     "text": [
      "Use pivot_table to create summary tables\n"
     ]
    }
   ],
   "source": [
    "# pivot = df.pivot_table(values='Salary', index='Department', columns='Gender', aggfunc='mean')\n",
    "print('Use pivot_table to create summary tables')"
   ]
  },
  {
   "cell_type": "markdown",
   "id": "e9c72d08",
   "metadata": {},
   "source": [
    "# 95. Merge two DataFrames using a common key column"
   ]
  },
  {
   "cell_type": "code",
   "execution_count": 95,
   "id": "344b703d",
   "metadata": {},
   "outputs": [
    {
     "name": "stdout",
     "output_type": "stream",
     "text": [
      "Use pd.merge for joining DataFrames\n"
     ]
    }
   ],
   "source": [
    "# merged = pd.merge(df1, df2, on='EmployeeID')\n",
    "print('Use pd.merge for joining DataFrames')"
   ]
  },
  {
   "cell_type": "markdown",
   "id": "6b7d8df0",
   "metadata": {},
   "source": [
    "# 96. Concatenate two DataFrames vertically and reset index"
   ]
  },
  {
   "cell_type": "code",
   "execution_count": 96,
   "id": "b2e9facb",
   "metadata": {},
   "outputs": [
    {
     "name": "stdout",
     "output_type": "stream",
     "text": [
      "Use pd.concat to concatenate DataFrames vertically\n"
     ]
    }
   ],
   "source": [
    "# combined = pd.concat([df1, df2], ignore_index=True)\n",
    "print('Use pd.concat to concatenate DataFrames vertically')"
   ]
  },
  {
   "cell_type": "markdown",
   "id": "634ad980",
   "metadata": {},
   "source": [
    "# 97. Extract the year from a column containing dates"
   ]
  },
  {
   "cell_type": "code",
   "execution_count": 97,
   "id": "bed5075a",
   "metadata": {},
   "outputs": [
    {
     "name": "stdout",
     "output_type": "stream",
     "text": [
      "Use pd.to_datetime and dt accessor to extract year\n"
     ]
    }
   ],
   "source": [
    "# df['Year'] = pd.to_datetime(df['Date']).dt.year\n",
    "print('Use pd.to_datetime and dt accessor to extract year')"
   ]
  },
  {
   "cell_type": "markdown",
   "id": "b1fbddb9",
   "metadata": {},
   "source": [
    "# 98. Count the number of unique values in a column"
   ]
  },
  {
   "cell_type": "code",
   "execution_count": 98,
   "id": "acc67b90",
   "metadata": {
    "scrolled": true
   },
   "outputs": [
    {
     "name": "stdout",
     "output_type": "stream",
     "text": [
      "Use nunique() to count unique values\n"
     ]
    }
   ],
   "source": [
    "# print(df['Department'].nunique())\n",
    "print('Use nunique() to count unique values')"
   ]
  },
  {
   "cell_type": "markdown",
   "id": "6c43b759",
   "metadata": {},
   "source": [
    "# 99. Convert a categorical column into one-hot encoded format"
   ]
  },
  {
   "cell_type": "code",
   "execution_count": 99,
   "id": "5a33fecf",
   "metadata": {},
   "outputs": [
    {
     "name": "stdout",
     "output_type": "stream",
     "text": [
      "Use pd.get_dummies for one-hot encoding\n"
     ]
    }
   ],
   "source": [
    "# encoded = pd.get_dummies(df, columns=['Gender'])\n",
    "print('Use pd.get_dummies for one-hot encoding')"
   ]
  },
  {
   "cell_type": "markdown",
   "id": "7b37754b",
   "metadata": {},
   "source": [
    "# 100. Apply a custom function to a column using .apply() to categorize values"
   ]
  },
  {
   "cell_type": "code",
   "execution_count": 100,
   "id": "e33309c3",
   "metadata": {},
   "outputs": [
    {
     "name": "stdout",
     "output_type": "stream",
     "text": [
      "Define a function and use .apply() to create a new column\n"
     ]
    }
   ],
   "source": [
    "def grade(marks):\n",
    "    if marks >= 90: return 'A'\n",
    "    elif marks >= 75: return 'B'\n",
    "    else: return 'C'\n",
    "# df['Grade'] = df['Marks'].apply(grade)\n",
    "print('Define a function and use .apply() to create a new column')"
   ]
  }
 ],
 "metadata": {
  "kernelspec": {
   "display_name": "Python 3 (ipykernel)",
   "language": "python",
   "name": "python3"
  },
  "language_info": {
   "codemirror_mode": {
    "name": "ipython",
    "version": 3
   },
   "file_extension": ".py",
   "mimetype": "text/x-python",
   "name": "python",
   "nbconvert_exporter": "python",
   "pygments_lexer": "ipython3",
   "version": "3.13.5"
  }
 },
 "nbformat": 4,
 "nbformat_minor": 5
}
